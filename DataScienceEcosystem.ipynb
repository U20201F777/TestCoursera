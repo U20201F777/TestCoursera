{
  "metadata": {
    "kernelspec": {
      "name": "python",
      "display_name": "Python (Pyodide)",
      "language": "python"
    },
    "language_info": {
      "codemirror_mode": {
        "name": "python",
        "version": 3
      },
      "file_extension": ".py",
      "mimetype": "text/x-python",
      "name": "python",
      "nbconvert_exporter": "python",
      "pygments_lexer": "ipython3",
      "version": "3.8"
    }
  },
  "nbformat_minor": 5,
  "nbformat": 4,
  "cells": [
    {
      "id": "d6b7e159-dbec-4419-847e-22bc2197053b",
      "cell_type": "markdown",
      "source": "# Data Science Tools and Ecosystem",
      "metadata": {}
    },
    {
      "id": "81cc92a9-03a6-4c5d-9e55-c1a641c569b2",
      "cell_type": "markdown",
      "source": "In this notebook, Data Science Tools and Ecosystem are summarized.",
      "metadata": {}
    },
    {
      "id": "58a0f3e9-28a2-4131-bc70-3cf83048d4c1",
      "cell_type": "markdown",
      "source": "Some of the popular languages that Data Scientists use are:\n1. Python\n2. R\n3. SQL\n4. Scala",
      "metadata": {}
    },
    {
      "id": "01fab708-3b37-4b32-8ffb-f030473f3cd6",
      "cell_type": "markdown",
      "source": "Some of the commonly used libraries used by Data Scientists include:\n- **Pandas**: Para manipulación de datos.\n- **NumPy**: Para operaciones numéricas.\n- **Matplotlib**: Para visualización de datos.\n- **Seaborn**: Para visualizaciones estadísticas.\n- **SciPy**: Para cálculo científico.\n- **Scikit-learn**: Para aprendizaje automático.\n- **TensorFlow**: Para redes neuronales y aprendizaje profundo.",
      "metadata": {}
    },
    {
      "id": "6d4f2e44-7bcc-4d32-85df-ad200aa8e8d1",
      "cell_type": "markdown",
      "source": "Data Science Tools\n\n| Herramienta          | Descripción                         | Uso Principal                          |\n|----------------------|-------------------------------------|----------------------------------------|\n| Jupyter Notebook  | Entorno interactivo para código     | Análisis y visualización de datos      |\n| RStudio           | IDE para R                          | Estadísticas y análisis de datos       |\n| Visual Studio Code | Editor de código                    | Desarrollo de código y scripting       |\n| Tableau           | Herramienta de visualización        | Visualización avanzada de datos        |\n| Power BI          | Herramienta de visualización        | Visualización de datos empresariales   |",
      "metadata": {}
    },
    {
      "id": "8304d3fb-522a-4bb5-adc5-ff602dfb5f4a",
      "cell_type": "markdown",
      "source": "## Below are a few examples of evaluating arithmetic expressions in Python.\n\n- **Suma**: `5 + 3 = 8`\n- **Resta**: `9 - 4 = 5`\n- **Multiplicación**: `6 * 2 = 12`\n- **División**: `8 / 2 = 4`\n- **Exponente**: `3^2 = 9`\n- **Módulo**: `7 % 3 = 1`",
      "metadata": {}
    },
    {
      "id": "3fa0bdfe-8982-48c8-a253-e908158109c5",
      "cell_type": "markdown",
      "source": "This a simple arithmetic expression to mutiply then add integers",
      "metadata": {}
    },
    {
      "id": "7f905890-e872-4d14-af60-19e41a5f4c55",
      "cell_type": "code",
      "source": "a = 5\nb = 3\n\n# Multiplicación\nmultiplicacion = a * b\nprint(f\"La multiplicación de {a} * {b} es {multiplicacion}\")\n\n# Suma\nsuma = a + b\nprint(f\"La suma de {a} + {b} es {suma}\")",
      "metadata": {
        "trusted": true
      },
      "outputs": [
        {
          "name": "stdout",
          "output_type": "stream",
          "text": "La multiplicación de 5 * 3 es 15\nLa suma de 5 + 3 es 8\n"
        }
      ],
      "execution_count": 2
    },
    {
      "id": "f21fe0c1-a9cc-484f-88f0-6fe6dfeee7fd",
      "cell_type": "markdown",
      "source": "This will convert 200 minutes to hours by diving by 60",
      "metadata": {}
    },
    {
      "id": "f10e17bf-ab07-4919-acbf-8b63450c04e0",
      "cell_type": "code",
      "source": "# Convertir minutos a horas\nminutos = 200\nhoras = minutos / 60\nprint(f\"{minutos} minutos equivalen a {horas} horas.\")",
      "metadata": {
        "trusted": true
      },
      "outputs": [
        {
          "name": "stdout",
          "output_type": "stream",
          "text": "200 minutos equivalen a 3.3333333333333335 horas.\n"
        }
      ],
      "execution_count": 3
    },
    {
      "id": "fd4ec13c-84a1-41d7-8a57-2001622792b2",
      "cell_type": "markdown",
      "source": "**Objectives:**\n* Unordered list\n* List popular languages for Data Science",
      "metadata": {}
    },
    {
      "id": "2ff5b9f8-c491-47ec-b8f1-4434a4141f8d",
      "cell_type": "code",
      "source": "# Listar objetivos\nobjetivos = [\n    \"Aprender a usar Jupyter Notebooks\",\n    \"Familiarizarse con Python para Ciencia de Datos\",\n    \"Aplicar herramientas estadísticas en proyectos reales\",\n    \"Desarrollar habilidades en visualización de datos\"\n]\n\nfor objetivo in objetivos:\n    print(f\"Objetivo: {objetivo}\")",
      "metadata": {
        "trusted": true
      },
      "outputs": [
        {
          "name": "stdout",
          "output_type": "stream",
          "text": "Objetivo: Aprender a usar Jupyter Notebooks\nObjetivo: Familiarizarse con Python para Ciencia de Datos\nObjetivo: Aplicar herramientas estadísticas en proyectos reales\nObjetivo: Desarrollar habilidades en visualización de datos\n"
        }
      ],
      "execution_count": 5
    },
    {
      "id": "65ed77a5-2d24-4fd0-8694-c9f448e2df9b",
      "cell_type": "markdown",
      "source": "# Autor\nAquije Chacaliaza Arlet",
      "metadata": {}
    }
  ]
}